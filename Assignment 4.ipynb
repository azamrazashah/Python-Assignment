{
 "cells": [
  {
   "cell_type": "code",
   "execution_count": null,
   "metadata": {},
   "outputs": [],
   "source": [
    "QUESTION : 1"
   ]
  },
  {
   "cell_type": "code",
   "execution_count": 11,
   "metadata": {},
   "outputs": [
    {
     "name": "stdout",
     "output_type": "stream",
     "text": [
      "Azam\n",
      "Shah\n",
      "31\n",
      "Matiari\n",
      "\n",
      "Actual dictionary:\n",
      "{'first_name': 'Azam', 'last_name': 'Shah', 'age': 31, 'city': 'Matiari'}\n",
      "\n",
      "After adding a new qualification in dictionary:\n",
      "{'first_name': 'Azam', 'last_name': 'Shah', 'age': 31, 'city': 'Matiari', 'qualification': 'BE'}\n",
      "\n",
      "After updating qualification in dictionary:\n",
      "{'first_name': 'Azam', 'last_name': 'Shah', 'age': 31, 'city': 'Matiari', 'qualification': 'ME'}\n",
      "\n",
      "After deleting qualification in dictionary:\n",
      "{'first_name': 'Azam', 'last_name': 'Shah', 'age': 31, 'city': 'Matiari'}\n"
     ]
    }
   ],
   "source": [
    "person = {\n",
    "    'first_name' : 'Azam',\n",
    "    'last_name' : 'Shah',\n",
    "    'age' : 31,\n",
    "    'city' : 'Matiari',\n",
    "    }\n",
    "\n",
    "print(person['first_name'])\n",
    "print(person['last_name'])\n",
    "print(person['age'])\n",
    "print(person['city'])\n",
    "\n",
    "print(\"\\nActual dictionary:\")\n",
    "print(person)\n",
    "\n",
    "print(\"\\nAfter adding a new qualification in dictionary:\")\n",
    "person.update({\"qualification\" : \"BE\"})\n",
    "print(person)\n",
    "\n",
    "print(\"\\nAfter updating qualification in dictionary:\")\n",
    "person['qualification'] = 'ME'\n",
    "print(person)\n",
    "\n",
    "print(\"\\nAfter deleting qualification in dictionary:\")\n",
    "del person['qualification']\n",
    "print(person)"
   ]
  },
  {
   "cell_type": "code",
   "execution_count": null,
   "metadata": {},
   "outputs": [],
   "source": [
    "QUESTION : 2"
   ]
  },
  {
   "cell_type": "code",
   "execution_count": 12,
   "metadata": {},
   "outputs": [
    {
     "name": "stdout",
     "output_type": "stream",
     "text": [
      "\n",
      "Name of the city is :  Hyderabad\n",
      "Name of the country is :  Pakistan\n",
      "Population of the city is :  1.733 million\n",
      "Fact about the city is :  it is the second largest city in Sindh\n",
      "\n",
      "Name of the city is :  Paris\n",
      "Name of the country is :  France\n",
      "Population of the city is :  2.141 million\n",
      "Fact about the city is :  Paris was originally a Roman city called \"Lutetia\"\n",
      "\n",
      "Name of the city is :  New York City\n",
      "Name of the country is :  USA\n",
      "Population of the city is :  8.623 million\n",
      "Fact about the city is :  it is largest city in the USA\n"
     ]
    }
   ],
   "source": [
    "cities = {\n",
    "    \"Hyderabad\" : {\n",
    "        'country' : 'Pakistan',\n",
    "        'population' : '1.733 million', \n",
    "        'fact' : 'it is the second largest city in Sindh',\n",
    "    },\n",
    "    \"Paris\" : {\n",
    "       'country' : 'France',\n",
    "        'population' : '2.141 million', \n",
    "        'fact' : 'Paris was originally a Roman city called \"Lutetia\"', \n",
    "    },\n",
    "    \"New York City\" : {\n",
    "        'country' : 'USA',\n",
    "        'population' : '8.623 million', \n",
    "        'fact' : 'it is largest city in the USA',\n",
    "    }\n",
    "}\n",
    "\n",
    "for city in cities.keys():\n",
    "    print(\"\\nName of the city is : \", city)\n",
    "    print(\"Name of the country is : \", cities[city][\"country\"])\n",
    "    print(\"Population of the city is : \", cities[city][\"population\"])\n",
    "    print(\"Fact about the city is : \", cities[city][\"fact\"])"
   ]
  },
  {
   "cell_type": "code",
   "execution_count": null,
   "metadata": {},
   "outputs": [],
   "source": [
    "QUESTION : 3"
   ]
  },
  {
   "cell_type": "code",
   "execution_count": 6,
   "metadata": {},
   "outputs": [
    {
     "name": "stdout",
     "output_type": "stream",
     "text": [
      "Welcome to Cinepax Hyderabad! How may I help you?\n",
      "Our prices are different for different age groups!\n",
      "\n",
      "Please enter your age? 35\n",
      "\n",
      "your ticket cost is 15$. Enjoy your movie!\n"
     ]
    }
   ],
   "source": [
    "print(\"Welcome to Cinepax Hyderabad! How may I help you?\")\n",
    "print(\"Our prices are different for different age groups!\")\n",
    "\n",
    "age = int(input(\"\\nPlease enter your age? \"))\n",
    "message = (\"Enjoy your movie\")\n",
    "\n",
    "for i in range(0,1):\n",
    "    \n",
    "    if age <= 3:\n",
    "        print(\"\\nyour ticket is free of cost.\", message + \"!\")\n",
    "    elif age >= 3 and age <= 12:\n",
    "        print(\"\\nyour ticket cost is 10$.\", message + \"!\")\n",
    "    elif age >= 12:\n",
    "        print(\"\\nyour ticket cost is 15$.\", message + \"!\")"
   ]
  },
  {
   "cell_type": "code",
   "execution_count": null,
   "metadata": {},
   "outputs": [],
   "source": [
    "QUESTION : 4"
   ]
  },
  {
   "cell_type": "code",
   "execution_count": 9,
   "metadata": {},
   "outputs": [
    {
     "name": "stdout",
     "output_type": "stream",
     "text": [
      "Enter the title of the book \"The Lord of the Rings\"\n",
      "One of my favorite book is \"The Lord of the Rings\"\n"
     ]
    }
   ],
   "source": [
    "def fav_book(book_name):\n",
    "    print(\"One of my favorite book is\", book_name)\n",
    "title = input(\"Enter the title of the book \")\n",
    "fav_book(title)"
   ]
  },
  {
   "cell_type": "code",
   "execution_count": null,
   "metadata": {},
   "outputs": [],
   "source": [
    "QUESTION : 5"
   ]
  },
  {
   "cell_type": "code",
   "execution_count": 10,
   "metadata": {},
   "outputs": [
    {
     "name": "stdout",
     "output_type": "stream",
     "text": [
      "Guess the number between 1 to 30: 5\n",
      "Your guess is too low\n",
      "Guess the number between 1 to 30: 10\n",
      "Your guess is too low\n",
      "Guess the number between 1 to 30: 15\n",
      "You loose\n",
      "Correct number is  14\n"
     ]
    }
   ],
   "source": [
    "import random\n",
    "\n",
    "random_number = random.randrange(1,30)\n",
    "\n",
    "flag = False\n",
    "\n",
    "for i in range(0,3):\n",
    "    guess = int(input(\"Guess the number between 1 to 30: \"))\n",
    "    if guess == ran*dom_number:\n",
    "        flag = True\n",
    "        break\n",
    "    elif guess < random_number:\n",
    "        print(\"Your guess is too low\")\n",
    "        \n",
    "if flag:\n",
    "    print(\"Congratulations you win!\")\n",
    "else:\n",
    "    print(\"You loose\")\n",
    "    print(\"Correct number is \", random_number)"
   ]
  }
 ],
 "metadata": {
  "kernelspec": {
   "display_name": "Python 3",
   "language": "python",
   "name": "python3"
  },
  "language_info": {
   "codemirror_mode": {
    "name": "ipython",
    "version": 3
   },
   "file_extension": ".py",
   "mimetype": "text/x-python",
   "name": "python",
   "nbconvert_exporter": "python",
   "pygments_lexer": "ipython3",
   "version": "3.7.4"
  }
 },
 "nbformat": 4,
 "nbformat_minor": 2
}
