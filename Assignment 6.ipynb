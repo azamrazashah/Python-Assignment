{
 "cells": [
  {
   "cell_type": "markdown",
   "metadata": {},
   "source": [
    "QUESTION : 1\n",
    "\n",
    "Answer. Object Oriented Programming is a programming language model in which programs are organized around data, or objects, rather than functions and logic.\n",
    "\n"
   ]
  },
  {
   "cell_type": "markdown",
   "metadata": {},
   "source": [
    "QUESTION : 2\n",
    "\n",
    "Answer. Following are the benefits of OOP.\n",
    "1 - It provides a simple way to solve complex problems.\n",
    "2 - OOP can easily be managed.\n",
    "3 - It is good for defining abstract data types.\n",
    "4 - It implements real life scenario.\n",
    "5 - The data is secured."
   ]
  },
  {
   "cell_type": "markdown",
   "metadata": {},
   "source": [
    "QUESTION : 3\n",
    "\n",
    "Answer. A function is a piece of code that is called by name, it can be passed data to operate on and can optionally return data. All data that is passed to a function is explicity passed. And whereas a method is a piece of a code that is called by a name that is associated with an object."
   ]
  },
  {
   "cell_type": "markdown",
   "metadata": {},
   "source": [
    "QUESTION : 4\n",
    "\n",
    "Answer. \n",
    "1 - Class: A class is an entity that determines how an object will behave and what the object will contain.\n",
    "2 - Object: Object is an instance of class which knows how to perform actions and interaction with other objects.\n",
    "3 - Attribute: These attributes belong to the class itself, you can call them class variables\n",
    "4 - Behaviour: Behaviour are the methods which tells object to take certain actions by calling function/method through object."
   ]
  },
  {
   "cell_type": "code",
   "execution_count": 8,
   "metadata": {},
   "outputs": [
    {
     "name": "stdout",
     "output_type": "stream",
     "text": [
      "Car's Name: Toyota Corolla\n",
      "Car's Model Year: 2008\n",
      "Car's Registration Year: 2009\n",
      "Car's Cost: 1500000\n",
      " \n",
      "Car's Name: Honda Civic\n",
      "Car's Model Year: 2015\n",
      "Car's Registration Year: 2015\n",
      "Car's Cost: 752200\n",
      " \n",
      "Car's Name: Suzuki Cultus\n",
      "Car's Model Year: 2005\n",
      "Car's Registration Year: 2018\n",
      "Car's Cost: 450000\n",
      " \n",
      "Car's Name: Toyota Passo\n",
      "Car's Model Year: 2012\n",
      "Car's Registration Year: 2012\n",
      "Car's Cost: 725000\n",
      " \n",
      "Car's Name: Honda city\n",
      "Car's Model Year: 2019\n",
      "Car's Registration Year: 2019\n",
      "Car's Cost: 2540000\n"
     ]
    }
   ],
   "source": [
    "class Car:\n",
    "    def __init__(self,model,color,name,cost,registration):\n",
    "        self.model = model\n",
    "        self.color = color\n",
    "        self.name = name\n",
    "        self.cost = cost\n",
    "        self.registration = registration\n",
    "        \n",
    "car1 = Car(2008,\"Black\",\"Toyota Corolla\",1500000,2009)\n",
    "\n",
    "print(\"Car's Name: \" + str(car1.name))\n",
    "print(\"Car's Model Year: \" + str(car1.model))\n",
    "print(\"Car's Registration Year: \" + str(car1.registration))\n",
    "print(\"Car's Cost: \" + str(car1.cost))\n",
    "\n",
    "car2 = Car(2015,\"Matt Grey\",\"Honda Civic\",752200,2015)\n",
    "\n",
    "print(\" \\nCar's Name: \" + str(car2.name))\n",
    "print(\"Car's Model Year: \" + str(car2.model))\n",
    "print(\"Car's Registration Year: \" + str(car2.registration))\n",
    "print(\"Car's Cost: \" + str(car2.cost))\n",
    "\n",
    "car3 = Car(2005,\"Blue\",\"Suzuki Cultus\",450000,2018)\n",
    "\n",
    "print(\" \\nCar's Name: \" + str(car3.name))\n",
    "print(\"Car's Model Year: \" + str(car3.model))\n",
    "print(\"Car's Registration Year: \" + str(car3.registration))\n",
    "print(\"Car's Cost: \" + str(car3.cost))\n",
    "\n",
    "car4 = Car(2012,\"White\",\"Toyota Passo\",725000,2012)\n",
    "\n",
    "print(\" \\nCar's Name: \" + str(car4.name))\n",
    "print(\"Car's Model Year: \" + str(car4.model))\n",
    "print(\"Car's Registration Year: \" + str(car4.registration))\n",
    "print(\"Car's Cost: \" + str(car4.cost))\n",
    "\n",
    "car5 = Car(2019,\"Metalic Grey\",\"Honda city\",2540000,2019)\n",
    "\n",
    "print(\" \\nCar's Name: \" + str(car5.name))\n",
    "print(\"Car's Model Year: \" + str(car5.model))\n",
    "print(\"Car's Registration Year: \" + str(car5.registration))\n",
    "print(\"Car's Cost: \" + str(car5.cost))"
   ]
  },
  {
   "cell_type": "code",
   "execution_count": null,
   "metadata": {},
   "outputs": [],
   "source": []
  }
 ],
 "metadata": {
  "kernelspec": {
   "display_name": "Python 3",
   "language": "python",
   "name": "python3"
  },
  "language_info": {
   "codemirror_mode": {
    "name": "ipython",
    "version": 3
   },
   "file_extension": ".py",
   "mimetype": "text/x-python",
   "name": "python",
   "nbconvert_exporter": "python",
   "pygments_lexer": "ipython3",
   "version": "3.7.4"
  }
 },
 "nbformat": 4,
 "nbformat_minor": 2
}
