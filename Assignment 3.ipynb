{
 "cells": [
  {
   "cell_type": "code",
   "execution_count": null,
   "metadata": {},
   "outputs": [],
   "source": [
    "QUESTION : 1"
   ]
  },
  {
   "cell_type": "code",
   "execution_count": 15,
   "metadata": {},
   "outputs": [
    {
     "name": "stdout",
     "output_type": "stream",
     "text": [
      "Enter first value 5\n",
      "Enter second value 3\n",
      "Enter operator **\n",
      "125 answer\n"
     ]
    }
   ],
   "source": [
    "val1 = int(input(\"Enter first value \"))\n",
    "val2 = int(input(\"Enter second value \"))\n",
    "operator = input(\"Enter operator \")\n",
    "\n",
    "if operator == \"+\":\n",
    "    val = val1 + val2\n",
    "    print(val, \"answer\")\n",
    "elif operator == \"-\":\n",
    "    val = val1 - val2\n",
    "    print(val, \"answer\")\n",
    "elif operator == \"*\":\n",
    "    val = val1 * val2\n",
    "    print(val, \"answer\")\n",
    "elif operator == \"/\":\n",
    "    val = val1 / val2\n",
    "    print(val, \"answer\")\n",
    "elif operator == \"**\":\n",
    "    val = val1 ** val2\n",
    "    print(val, \"answer\")\n",
    "else:\n",
    "    print(\"Enter correct operator\") "
   ]
  },
  {
   "cell_type": "code",
   "execution_count": null,
   "metadata": {},
   "outputs": [],
   "source": [
    "QUESTION : 2"
   ]
  },
  {
   "cell_type": "code",
   "execution_count": 16,
   "metadata": {},
   "outputs": [
    {
     "name": "stdout",
     "output_type": "stream",
     "text": [
      "['1', '5', '9']\n"
     ]
    }
   ],
   "source": [
    "a = [\"azam\", \"shah\", \"1\", \"5\", \"9\"]\n",
    "list1 = [i for i in a if i.isdigit()]\n",
    "print(list1)"
   ]
  },
  {
   "cell_type": "code",
   "execution_count": 17,
   "metadata": {},
   "outputs": [],
   "source": [
    "QUESTION : 3"
   ]
  },
  {
   "cell_type": "code",
   "execution_count": 18,
   "metadata": {},
   "outputs": [
    {
     "name": "stdout",
     "output_type": "stream",
     "text": [
      "{0: 10, 1: 20}\n",
      "{0: 10, 1: 20, 2: 30, 3: 40}\n"
     ]
    }
   ],
   "source": [
    "d = {0:10, 1:20}\n",
    "print(d)\n",
    "d.update({2:30, 3:40})\n",
    "print(d)"
   ]
  },
  {
   "cell_type": "code",
   "execution_count": 19,
   "metadata": {},
   "outputs": [],
   "source": [
    "QUESTION : 4"
   ]
  },
  {
   "cell_type": "code",
   "execution_count": 20,
   "metadata": {},
   "outputs": [
    {
     "name": "stdout",
     "output_type": "stream",
     "text": [
      "600\n"
     ]
    }
   ],
   "source": [
    "d = {\"a\":100, \"b\":200, \"c\":300}\n",
    "print(sum(d.values()))"
   ]
  },
  {
   "cell_type": "code",
   "execution_count": 21,
   "metadata": {},
   "outputs": [],
   "source": [
    "QUESTION : 5"
   ]
  },
  {
   "cell_type": "code",
   "execution_count": 24,
   "metadata": {},
   "outputs": [
    {
     "name": "stdout",
     "output_type": "stream",
     "text": [
      "Duplicate 3\n",
      "Duplicate 3\n",
      "Duplicate 2\n",
      "Duplicate 2\n"
     ]
    }
   ],
   "source": [
    "list1 = [\"1\", \"6\", \"3\", \"5\", \"3\", \"4\", \"2\", \"2\"]\n",
    "for value in list1:\n",
    "    if list1.count(value) > 1:\n",
    "        print(f\"Duplicate {value}\")"
   ]
  },
  {
   "cell_type": "code",
   "execution_count": 25,
   "metadata": {},
   "outputs": [],
   "source": [
    "QUESTION : 6"
   ]
  },
  {
   "cell_type": "code",
   "execution_count": 26,
   "metadata": {},
   "outputs": [
    {
     "name": "stdout",
     "output_type": "stream",
     "text": [
      "Enter a key to check: a\n",
      "Key exists\n"
     ]
    }
   ],
   "source": [
    "d = {\"a\":1, \"b\":2, \"c\":3, \"d\":4}\n",
    "key = input(\"Enter a key to check: \")\n",
    "if key in d.keys():\n",
    "    print(\"Key exists\")\n",
    "else:\n",
    "    print(\"Key doesn't exist\")"
   ]
  }
 ],
 "metadata": {
  "kernelspec": {
   "display_name": "Python 3",
   "language": "python",
   "name": "python3"
  },
  "language_info": {
   "codemirror_mode": {
    "name": "ipython",
    "version": 3
   },
   "file_extension": ".py",
   "mimetype": "text/x-python",
   "name": "python",
   "nbconvert_exporter": "python",
   "pygments_lexer": "ipython3",
   "version": "3.7.4"
  }
 },
 "nbformat": 4,
 "nbformat_minor": 2
}
