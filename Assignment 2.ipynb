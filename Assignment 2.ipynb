{
 "cells": [
  {
   "cell_type": "code",
   "execution_count": null,
   "metadata": {},
   "outputs": [],
   "source": [
    "QUESTION : 1"
   ]
  },
  {
   "cell_type": "code",
   "execution_count": 2,
   "metadata": {},
   "outputs": [
    {
     "name": "stdout",
     "output_type": "stream",
     "text": [
      "Enter marks of the first subject: 33\n",
      "Enter marks of the second subject: 33\n",
      "Enter marks of the third subject: 33\n",
      "Enter marks of the fourth subject: 33\n",
      "Enter marks of the fifth subject: 33\n",
      "Grade: E\n"
     ]
    }
   ],
   "source": [
    "subject_1 = int(input(\"Enter marks of the first subject: \"))\n",
    "subject_2 = int(input(\"Enter marks of the second subject: \"))\n",
    "subject_3 = int(input(\"Enter marks of the third subject: \"))\n",
    "subject_4 = int(input(\"Enter marks of the fourth subject: \"))\n",
    "subject_5 = int(input(\"Enter marks of the fifth subject: \"))\n",
    "avg = (subject_1 + subject_2 + subject_3 + subject_4 + subject_5)/5\n",
    "if avg >= 80 and avg <= 100:\n",
    "    print(\"Grade: A+\")\n",
    "elif avg >= 70 and avg < 80:\n",
    "    print(\"Grade: A\")\n",
    "elif avg >= 60 and avg < 70:\n",
    "    print(\"Grade: B\")\n",
    "elif avg >= 50 and avg < 60: \n",
    "    print(\"Grade: C\")\n",
    "elif avg >= 40 and avg < 50:\n",
    "    print(\"Grade: D\")\n",
    "elif avg >= 33 and avg < 40:\n",
    "    print(\"Grade: E\")\n",
    "elif avg >= 0 and avg < 33:\n",
    "    print(\"Fail\")\n",
    "else:\n",
    "    print(\"You have given inapproriate numbers\")"
   ]
  },
  {
   "cell_type": "code",
   "execution_count": null,
   "metadata": {},
   "outputs": [],
   "source": [
    "QUESTION : 2"
   ]
  },
  {
   "cell_type": "code",
   "execution_count": 3,
   "metadata": {},
   "outputs": [
    {
     "name": "stdout",
     "output_type": "stream",
     "text": [
      "Enter a number: 4\n",
      "This is an even number\n"
     ]
    }
   ],
   "source": [
    "num = int(input(\"Enter a number: \"))\n",
    "if num % 2 == 0:\n",
    "    print(\"This is an even number\")\n",
    "else:\n",
    "    print(\"This is an odd number\")"
   ]
  },
  {
   "cell_type": "code",
   "execution_count": null,
   "metadata": {},
   "outputs": [],
   "source": [
    "QUESTION : 3"
   ]
  },
  {
   "cell_type": "code",
   "execution_count": 15,
   "metadata": {},
   "outputs": [
    {
     "name": "stdout",
     "output_type": "stream",
     "text": [
      "5\n"
     ]
    }
   ],
   "source": [
    "list1 = [\"\",\"\",\"\",\"\",\"\"]\n",
    "print(len(list1))"
   ]
  },
  {
   "cell_type": "code",
   "execution_count": null,
   "metadata": {},
   "outputs": [],
   "source": [
    "QUESTION : 4"
   ]
  },
  {
   "cell_type": "code",
   "execution_count": 16,
   "metadata": {},
   "outputs": [
    {
     "name": "stdout",
     "output_type": "stream",
     "text": [
      "40\n"
     ]
    }
   ],
   "source": [
    "list1 = [12, 4, 6, 8, 10]\n",
    "total = sum(list1)\n",
    "print(total)"
   ]
  },
  {
   "cell_type": "code",
   "execution_count": null,
   "metadata": {},
   "outputs": [],
   "source": [
    "QUESTION : 5"
   ]
  },
  {
   "cell_type": "code",
   "execution_count": 17,
   "metadata": {},
   "outputs": [
    {
     "name": "stdout",
     "output_type": "stream",
     "text": [
      "100\n"
     ]
    }
   ],
   "source": [
    "list1 = [56, 100, 2, -4]\n",
    "print(max(list1))"
   ]
  },
  {
   "cell_type": "code",
   "execution_count": null,
   "metadata": {},
   "outputs": [],
   "source": [
    "QUESTION : 6"
   ]
  },
  {
   "cell_type": "code",
   "execution_count": 23,
   "metadata": {},
   "outputs": [
    {
     "name": "stdout",
     "output_type": "stream",
     "text": [
      "1\n",
      "1\n",
      "2\n",
      "3\n"
     ]
    }
   ],
   "source": [
    "a = [1, 1, 2, 3, 5, 8, 13, 21, 34, 55, 89]\n",
    "for i in a:\n",
    "    if i < 5:\n",
    "        print(i)"
   ]
  }
 ],
 "metadata": {
  "kernelspec": {
   "display_name": "Python 3",
   "language": "python",
   "name": "python3"
  },
  "language_info": {
   "codemirror_mode": {
    "name": "ipython",
    "version": 3
   },
   "file_extension": ".py",
   "mimetype": "text/x-python",
   "name": "python",
   "nbconvert_exporter": "python",
   "pygments_lexer": "ipython3",
   "version": "3.7.4"
  }
 },
 "nbformat": 4,
 "nbformat_minor": 2
}
