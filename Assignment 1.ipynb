{
 "cells": [
  {
   "cell_type": "code",
   "execution_count": 11,
   "metadata": {},
   "outputs": [
    {
     "name": "stdout",
     "output_type": "stream",
     "text": [
      "\n",
      "Twinkle, twinkle, little star,\n",
      "\tHow I wonder what you are!\n",
      "\t\tUp above the world so high,\n",
      "\t\tLike a diamond in the sky.\n",
      "Twinkle, twinkle, little star,\n",
      "\tHow I wonder what you are\n",
      "\n"
     ]
    }
   ],
   "source": [
    "message = (\"\"\"\n",
    "Twinkle, twinkle, little star,\\n\\t\\\n",
    "How I wonder what you are!\\n\\t\\t\\\n",
    "Up above the world so high,\\n\\t\\t\\\n",
    "Like a diamond in the sky.\n",
    "Twinkle, twinkle, little star,\\n\\t\\\n",
    "How I wonder what you are\n",
    "\"\"\")\n",
    "print(message)"
   ]
  },
  {
   "cell_type": "code",
   "execution_count": 15,
   "metadata": {},
   "outputs": [
    {
     "name": "stdout",
     "output_type": "stream",
     "text": [
      "Python version :\n",
      "3.7.4 (default, Aug  9 2019, 18:34:13) [MSC v.1915 64 bit (AMD64)]\n"
     ]
    }
   ],
   "source": [
    "import sys\n",
    "print(\"Python version :\")\n",
    "print(sys.version)"
   ]
  },
  {
   "cell_type": "code",
   "execution_count": 19,
   "metadata": {},
   "outputs": [
    {
     "name": "stdout",
     "output_type": "stream",
     "text": [
      "Current date and time :\n",
      "19-11-2019 03 16 18\n"
     ]
    }
   ],
   "source": [
    "import datetime\n",
    "now = datetime.datetime.now()\n",
    "print(\"Current date and time :\")\n",
    "print(now.strftime(\"%d-%m-%Y %H %M %S\"))"
   ]
  },
  {
   "cell_type": "code",
   "execution_count": 21,
   "metadata": {},
   "outputs": [
    {
     "name": "stdout",
     "output_type": "stream",
     "text": [
      "Input the radius of the circle : 5\n",
      "The area of the circle with radius 5.0 is: 78.53981633974483\n"
     ]
    }
   ],
   "source": [
    "from math import pi\n",
    "r = float(input(\"Input the radius of the circle : \"))\n",
    "print(\"The area of the circle with radius \" + str(r) + \" is: \" + str(pi * r**2))"
   ]
  },
  {
   "cell_type": "code",
   "execution_count": 23,
   "metadata": {},
   "outputs": [
    {
     "name": "stdout",
     "output_type": "stream",
     "text": [
      "First Name : Azam\n",
      "Last Name : Shah\n",
      "Shah Azam\n"
     ]
    }
   ],
   "source": [
    "first_name = input(\"First Name : \")\n",
    "last_name = input(\"Last Name : \")\n",
    "print(last_name + \" \" + first_name)"
   ]
  },
  {
   "cell_type": "code",
   "execution_count": 37,
   "metadata": {},
   "outputs": [
    {
     "name": "stdout",
     "output_type": "stream",
     "text": [
      "Enter first number : 2\n",
      "Enter second number : 3\n",
      "Sum of the number is : 5.0\n"
     ]
    }
   ],
   "source": [
    "first_num = input(\"Enter first number : \")\n",
    "second_num = input(\"Enter second number : \")\n",
    "sum = float(first_num) + float(second_num)\n",
    "print(\"Sum of the number is :\" , sum)"
   ]
  }
 ],
 "metadata": {
  "kernelspec": {
   "display_name": "Python 3",
   "language": "python",
   "name": "python3"
  }
 },
 "nbformat": 4,
 "nbformat_minor": 2
}
